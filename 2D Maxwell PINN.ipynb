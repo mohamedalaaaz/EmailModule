{
  "nbformat": 4,
  "nbformat_minor": 0,
  "metadata": {
    "colab": {
      "provenance": [],
      "authorship_tag": "ABX9TyN9Q6dj+fYz8gjXpqJT3QcI",
      "include_colab_link": true
    },
    "kernelspec": {
      "name": "python3",
      "display_name": "Python 3"
    },
    "language_info": {
      "name": "python"
    }
  },
  "cells": [
    {
      "cell_type": "markdown",
      "metadata": {
        "id": "view-in-github",
        "colab_type": "text"
      },
      "source": [
        "<a href=\"https://colab.research.google.com/github/mohamedalaaaz/EmailModule/blob/main/2D%20Maxwell%20PINN.ipynb\" target=\"_parent\"><img src=\"https://colab.research.google.com/assets/colab-badge.svg\" alt=\"Open In Colab\"/></a>"
      ]
    },
    {
      "cell_type": "code",
      "execution_count": 3,
      "metadata": {
        "id": "V4upvQgnH45p"
      },
      "outputs": [],
      "source": [
        "import torch\n",
        "import torch.nn as nn\n",
        "import torch.autograd as autograd\n",
        "\n",
        "device = torch.device(\"cuda\" if torch.cuda.is_available() else \"cpu\")\n",
        "\n",
        "# Optionally: RFF mapping layer for better learning\n",
        "class RFF(nn.Module):\n",
        "    def __init__(self, in_features, out_features):\n",
        "        super().__init__()\n",
        "        self.B = nn.Parameter(torch.randn(in_features, out_features) * 10, requires_grad=False)\n",
        "        self.scale = 1.0\n",
        "\n",
        "    def forward(self, x):\n",
        "        return torch.cat([torch.sin(self.scale * x @ self.B), torch.cos(self.scale * x @ self.B)], dim=1)\n",
        "\n",
        "class MaxwellPINN2D(nn.Module):\n",
        "    def __init__(self, use_rff=False, rff_dim=128):\n",
        "        super().__init__()\n",
        "        self.use_rff = use_rff\n",
        "        if use_rff:\n",
        "            self.rff = RFF(3, rff_dim)\n",
        "            input_dim = 2 * rff_dim\n",
        "        else:\n",
        "            input_dim = 3\n",
        "        self.net = nn.Sequential(\n",
        "            nn.Linear(input_dim, 128),\n",
        "            nn.Tanh(),\n",
        "            nn.Linear(128, 128),\n",
        "            nn.Tanh(),\n",
        "            nn.Linear(128, 3)  # Outputs: [Ez, Hx, Hy]\n",
        "        )\n",
        "\n",
        "    def forward(self, x, y, t):\n",
        "        inp = torch.cat([x, y, t], dim=1)\n",
        "        if self.use_rff:\n",
        "            inp = self.rff(inp)\n",
        "        return self.net(inp)\n",
        "\n",
        "def maxwell_loss(model, x, y, t):\n",
        "    x.requires_grad_(True); y.requires_grad_(True); t.requires_grad_(True)\n",
        "    output = model(x, y, t)\n",
        "    Ez, Hx, Hy = output[:, [0]], output[:, [1]], output[:, [2]]\n",
        "\n",
        "    # Compute derivatives\n",
        "    Ez_x = autograd.grad(Ez, x, torch.ones_like(Ez), create_graph=True)[0]\n",
        "    Ez_y = autograd.grad(Ez, y, torch.ones_like(Ez), create_graph=True)[0]\n",
        "    Ez_t = autograd.grad(Ez, t, torch.ones_like(Ez), create_graph=True)[0]\n",
        "\n",
        "    Hx_t = autograd.grad(Hx, t, torch.ones_like(Hx), create_graph=True)[0]\n",
        "    Hy_t = autograd.grad(Hy, t, torch.ones_like(Hy), create_graph=True)[0]\n",
        "    Hx_y = autograd.grad(Hx, y, torch.ones_like(Hx), create_graph=True)[0]\n",
        "    Hy_x = autograd.grad(Hy, x, torch.ones_like(Hy), create_graph=True)[0]\n",
        "\n",
        "    # Residuals for Maxwell’s equations in vacuum (2D TE mode)\n",
        "    r1 = Ez_x + Hx_t     # ∂Ez/∂x + ∂Hx/∂t = 0\n",
        "    r2 = Ez_y - Hy_t     # ∂Ez/∂y - ∂Hy/∂t = 0\n",
        "    r3 = Hx_y - Hy_x + Ez_t  # ∂Hx/∂y - ∂Hy/∂x + ∂Ez/∂t = 0\n",
        "\n",
        "    loss = torch.mean(r1**2 + r2**2 + r3**2)\n",
        "    return loss\n",
        "\n",
        "# Training procedure\n",
        "def train(model, epochs=5000, lr=1e-3):\n",
        "    optimizer = torch.optim.Adam(model.parameters(), lr=lr)\n",
        "    for epoch in range(epochs):\n",
        "        x = torch.rand(1024,1,device=device)\n",
        "        y = torch.rand(1024,1,device=device)\n",
        "        t = torch.rand(1024,1,device=device)\n",
        "\n",
        "        loss = maxwell_loss(model, x, y, t)\n",
        "        optimizer.zero_grad()\n",
        "        loss.backward()\n",
        "        optimizer.step()\n",
        "\n",
        "        if epoch % 500 == 0:\n",
        "            print(f\"Epoch {epoch}, Loss: {loss.item():.6f}\")\n"
      ]
    },
    {
      "cell_type": "code",
      "source": [
        "import numpy as np\n",
        "import matplotlib.pyplot as plt\n",
        "\n",
        "# Create a grid in (x, y) at fixed time t0\n",
        "t0 = 0.5\n",
        "nx, ny = 100, 100\n",
        "x_vals = torch.linspace(0, 1, nx, device=device)\n",
        "y_vals = torch.linspace(0, 1, ny, device=device)\n",
        "X, Y = torch.meshgrid(x_vals, y_vals, indexing='ij')\n",
        "\n",
        "x_flat = X.reshape(-1, 1)\n",
        "y_flat = Y.reshape(-1, 1)\n",
        "t_flat = torch.full_like(x_flat, t0)\n",
        "\n",
        "with torch.no_grad():\n",
        "    output = model(x_flat, y_flat, t_flat).cpu()\n",
        "    Ez = output[:, 0].reshape(nx, ny).numpy()\n",
        "    Hx = output[:, 1].reshape(nx, ny).numpy()\n",
        "    Hy = output[:, 2].reshape(nx, ny).numpy()\n",
        "\n",
        "# Plot Ez field\n",
        "plt.figure(figsize=(12, 4))\n",
        "plt.subplot(1, 3, 1)\n",
        "plt.title(f\"Electric Field Ez at t={t0}\")\n",
        "plt.imshow(Ez, extent=[0,1,0,1], origin='lower', cmap='RdBu')\n",
        "plt.colorbar()\n",
        "\n",
        "# Plot Hx field\n",
        "plt.subplot(1, 3, 2)\n",
        "plt.title(f\"Magnetic Field Hx at t={t0}\")\n",
        "plt.imshow(Hx, extent=[0,1,0,1], origin='lower', cmap='RdBu')\n",
        "plt.colorbar()\n",
        "\n",
        "# Plot Hy field\n",
        "plt.subplot(1, 3, 3)\n",
        "plt.title(f\"Magnetic Field Hy at t={t0}\")\n",
        "plt.imshow(Hy, extent=[0,1,0,1], origin='lower', cmap='RdBu')\n",
        "plt.colorbar()\n",
        "\n",
        "plt.tight_layout()\n",
        "plt.show()\n"
      ],
      "metadata": {
        "colab": {
          "base_uri": "https://localhost:8080/",
          "height": 211
        },
        "collapsed": true,
        "id": "wSLK4u-KIJI_",
        "outputId": "719bcc3d-9c1f-4e8f-f124-9906d480f882"
      },
      "execution_count": 4,
      "outputs": [
        {
          "output_type": "error",
          "ename": "NameError",
          "evalue": "name 'model' is not defined",
          "traceback": [
            "\u001b[0;31m---------------------------------------------------------------------------\u001b[0m",
            "\u001b[0;31mNameError\u001b[0m                                 Traceback (most recent call last)",
            "\u001b[0;32m/tmp/ipython-input-126271152.py\u001b[0m in \u001b[0;36m<cell line: 0>\u001b[0;34m()\u001b[0m\n\u001b[1;32m     14\u001b[0m \u001b[0;34m\u001b[0m\u001b[0m\n\u001b[1;32m     15\u001b[0m \u001b[0;32mwith\u001b[0m \u001b[0mtorch\u001b[0m\u001b[0;34m.\u001b[0m\u001b[0mno_grad\u001b[0m\u001b[0;34m(\u001b[0m\u001b[0;34m)\u001b[0m\u001b[0;34m:\u001b[0m\u001b[0;34m\u001b[0m\u001b[0;34m\u001b[0m\u001b[0m\n\u001b[0;32m---> 16\u001b[0;31m     \u001b[0moutput\u001b[0m \u001b[0;34m=\u001b[0m \u001b[0mmodel\u001b[0m\u001b[0;34m(\u001b[0m\u001b[0mx_flat\u001b[0m\u001b[0;34m,\u001b[0m \u001b[0my_flat\u001b[0m\u001b[0;34m,\u001b[0m \u001b[0mt_flat\u001b[0m\u001b[0;34m)\u001b[0m\u001b[0;34m.\u001b[0m\u001b[0mcpu\u001b[0m\u001b[0;34m(\u001b[0m\u001b[0;34m)\u001b[0m\u001b[0;34m\u001b[0m\u001b[0;34m\u001b[0m\u001b[0m\n\u001b[0m\u001b[1;32m     17\u001b[0m     \u001b[0mEz\u001b[0m \u001b[0;34m=\u001b[0m \u001b[0moutput\u001b[0m\u001b[0;34m[\u001b[0m\u001b[0;34m:\u001b[0m\u001b[0;34m,\u001b[0m \u001b[0;36m0\u001b[0m\u001b[0;34m]\u001b[0m\u001b[0;34m.\u001b[0m\u001b[0mreshape\u001b[0m\u001b[0;34m(\u001b[0m\u001b[0mnx\u001b[0m\u001b[0;34m,\u001b[0m \u001b[0mny\u001b[0m\u001b[0;34m)\u001b[0m\u001b[0;34m.\u001b[0m\u001b[0mnumpy\u001b[0m\u001b[0;34m(\u001b[0m\u001b[0;34m)\u001b[0m\u001b[0;34m\u001b[0m\u001b[0;34m\u001b[0m\u001b[0m\n\u001b[1;32m     18\u001b[0m     \u001b[0mHx\u001b[0m \u001b[0;34m=\u001b[0m \u001b[0moutput\u001b[0m\u001b[0;34m[\u001b[0m\u001b[0;34m:\u001b[0m\u001b[0;34m,\u001b[0m \u001b[0;36m1\u001b[0m\u001b[0;34m]\u001b[0m\u001b[0;34m.\u001b[0m\u001b[0mreshape\u001b[0m\u001b[0;34m(\u001b[0m\u001b[0mnx\u001b[0m\u001b[0;34m,\u001b[0m \u001b[0mny\u001b[0m\u001b[0;34m)\u001b[0m\u001b[0;34m.\u001b[0m\u001b[0mnumpy\u001b[0m\u001b[0;34m(\u001b[0m\u001b[0;34m)\u001b[0m\u001b[0;34m\u001b[0m\u001b[0;34m\u001b[0m\u001b[0m\n",
            "\u001b[0;31mNameError\u001b[0m: name 'model' is not defined"
          ]
        }
      ]
    }
  ]
}